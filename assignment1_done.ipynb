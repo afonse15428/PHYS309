{
  "cells": [
    {
      "cell_type": "markdown",
      "id": "0da2be18-2742-484a-a53a-703bc15d09b1",
      "metadata": {
        "id": "0da2be18-2742-484a-a53a-703bc15d09b1"
      },
      "source": [
        "# PHYS 309 Assignment 1\n",
        "\n",
        "### Getting started\n",
        "\n",
        "<ul>\n",
        "    <li>If you do not already have the <a href=\"https://www.anaconda.com/products/distribution\">Anaconda <tt>python</tt> distribution</a>, click the link to install the individual, free version</li>\n",
        "    <li>Download this notebook to your own computer, open with <tt>Jupyter</tt> notebook or lab, and complete the missing code. See the <a href=\"https://docs.jupyter.org/en/latest/start/index.html\"><tt>Jupyter</tt> documentation</a> for help.</li>\n",
        "</ul>\n",
        "\n",
        "<strong>Instead of putting in the values of physical constants such as $c$ and $\\epsilon_0$ by hand, use SI values pre-programmed into [scipy.constants](https://docs.scipy.org/doc/scipy/reference/constants.html).\n",
        "\n",
        "### Set up <tt>python</tt> environment"
      ]
    },
    {
      "cell_type": "code",
      "execution_count": null,
      "id": "a70b6bf5",
      "metadata": {
        "id": "a70b6bf5"
      },
      "outputs": [],
      "source": [
        "import numpy as np\n",
        "import matplotlib.pyplot as plt\n",
        "from matplotlib import pyplot as plt\n",
        "import math\n",
        "\n",
        " # Contains physical constants defined in SI units (default) as well as other systems\n",
        "from scipy import constants\n",
        "\n",
        "# Make easily readable plots with large axis labels\n",
        "plt.rcParams.update({\"font.size\":16, \"axes.labelsize\":16, \"font.family\":\"sans-serif\", \n",
        "                     \"font.sans-serif\":\"Arial\"})"
      ]
    },
    {
      "cell_type": "markdown",
      "id": "f44d8185",
      "metadata": {
        "id": "f44d8185"
      },
      "source": [
        "### Questions\n",
        "\n",
        "\n",
        "Recall that the speed of light in vacuum is \n",
        "\\begin{equation}\n",
        "c = \\frac{1}{\\sqrt{\\epsilon_0 \\mu_0}}, \\; \\; \\; \\; \\; (1)\n",
        "\\end{equation}\n",
        "where $\\epsilon_0 = 8.85 \\times 10^{-12}$ F/m (Farads per meter)$^{*}$ is the electric permittivity of free space and $\\mu_0 = 1.26 \\times 10^{-6}$ N/A$^2$ (Newtons per Ampere$^2$)$^{**}$ is the magnetic permeability of free space. The electric field created by a point charge $q$ is\n",
        "\\begin{equation}\n",
        "E = \\frac{1}{4 \\pi \\epsilon_0} \\frac{q}{r^2}. \\; \\; \\; \\; (2)\n",
        "\\end{equation}\n",
        "Suppose a charged particle is moving at some fraction of the speed of light in vacuum ($v_q = f c; \\; 0 < f < 1$) as seen in reference frame $S$. Reference frame $S^{\\prime}$ is co-moving with the point charge, so that $\\frac{dx^{\\prime}}{dt^{\\prime}} = v^{\\prime}_q = 0$ in frame $S^{\\prime}$. To make the math easier, put $q$ at the origin of $S^{\\prime}$.\n",
        "\n",
        "To understand Einstein's motivation for developing the special theory of relativity, make the <strong>incorrect, erroneous, and wrong</strong> assumption that the Galilean velocity transformation holds true for all values of $f$:\n",
        "\\begin{equation}\n",
        "\\frac{dx^{\\prime}}{dt^{\\prime}} = \\frac{dx}{dt} - v_q \\; \\; \\; (3)\n",
        "\\end{equation}\n",
        "\n",
        "<ol>\n",
        "    <li>Assume the charged particle is an electron. Using Equation 2, calculate and plot the electric field as a function of distance $r^{\\prime}$ from $q$ in frame $S^{\\prime}$. Choose an x-axis range that makes sense to you and label both axes with correct units.</li>\n",
        "</ol>\n",
        "\n",
        "$^{*}$Farad = Coulomb/Volt: Farad is the unit of capacitance, which measures the amount of charge necessary to increase the electric potential of a system by 1 Volt. Farads/meter measure how much capacitance you get per meter of free space between yourself and a charged particle.\n",
        "\n",
        "$^{**}$Newtons/Ampere$^2$ = Newtons/(Coulombs/second)$^2$. $\\mu_0$ measures how effective inductance is at creating magnetic force in free space."
      ]
    },
    {
      "cell_type": "code",
      "execution_count": 18,
      "id": "bec4ed40",
      "metadata": {
        "colab": {
          "base_uri": "https://localhost:8080/",
          "height": 291
        },
        "id": "bec4ed40",
        "outputId": "d6dd9602-57c5-493a-a23c-497f4aa8fbf4"
      },
      "outputs": [
        {
          "output_type": "stream",
          "name": "stderr",
          "text": [
            "<ipython-input-18-2daa1b0a42f3>:15: RuntimeWarning: divide by zero encountered in true_divide\n",
            "  E = (1/(4*math.pi*𝜖0))*(q/r**2)\n"
          ]
        },
        {
          "output_type": "display_data",
          "data": {
            "text/plain": [
              "<Figure size 432x216 with 1 Axes>"
            ],
            "image/png": "[encoded data removed]"
          },
          "metadata": {
            "needs_background": "light"
          }
        }
      ],
      "source": [
        "fig, ax = plt.subplots(figsize=(6,3))\n",
        "\n",
        "# speed of light = 299 792 458 m / s\n",
        "\n",
        "𝜖0 = 8.85 * 10**(-12) # F/m (Farads per meter)\n",
        "\n",
        "𝜇0 = 1.26 * 10**(-6) # N/A^2\n",
        "\n",
        "q = 1\n",
        "\n",
        "r = np.arange(0,10,0.1)\n",
        "\n",
        "c = 1/math.sqrt(𝜖0*𝜇0)\n",
        "\n",
        "E = (1/(4*math.pi*𝜖0))*(q/r**2)\n",
        "\n",
        "ax.plot(E)\n",
        "plt.title('Electric Field')\n",
        "plt.xlabel('r')\n",
        "plt.ylabel('E (V/m)')\n",
        "plt.show()"
      ]
    },
    {
      "cell_type": "markdown",
      "id": "c524cb30",
      "metadata": {
        "id": "c524cb30"
      },
      "source": [
        "<ol start=2>\n",
        "    <li>The Galilean velocity transformation suggests that objects can \"catch up\" with light, so that light in a vacuum appears to be going slower than the value of $c$ from Equation (1). Make a plot of $c^{\\prime}$, the <strong>incorrect</strong> speed of light in frame $S^{\\prime}$ according to the Galilean transformation, as a function of $f$. Put units on the axes where appropriate.</li>\n",
        "</ol>"
      ]
    },
    {
      "cell_type": "code",
      "execution_count": 25,
      "id": "5ce0c7ba",
      "metadata": {
        "id": "5ce0c7ba",
        "colab": {
          "base_uri": "https://localhost:8080/",
          "height": 256
        },
        "outputId": "dfec9d8f-2228-48eb-b3cf-d4f0e033104c"
      },
      "outputs": [
        {
          "output_type": "display_data",
          "data": {
            "text/plain": [
              "<Figure size 432x216 with 1 Axes>"
            ],
            "image/png": "[encoded data removed]"
          },
          "metadata": {
            "needs_background": "light"
          }
        }
      ],
      "source": [
        "fig, ax = plt.subplots(figsize=(6,3))\n",
        "\n",
        "c = 1/math.sqrt(𝜖0*𝜇0)\n",
        "\n",
        "f = np.arange(0,1,0.1)\n",
        "\n",
        "vq = f*c\n",
        "\n",
        "ax.plot(vq)\n",
        "plt.title('c')\n",
        "plt.xlabel('f')\n",
        "plt.ylabel('Vq')\n",
        "plt.show()\n",
        "\n"
      ]
    },
    {
      "cell_type": "markdown",
      "id": "82029fde",
      "metadata": {
        "id": "82029fde"
      },
      "source": [
        "<ol start=3>\n",
        "    <li>In frame $S^{\\prime}$, something has to give: either Equation (1) is no longer true, or the values of $\\epsilon_0$ and/or $\\mu_0$ have to change. Suppose Equation (1) is still true and $\\mu_0 = \\mu_0^{\\prime}$. Make a plot with two vertically stacked subplots. The top subplot should show $\\epsilon_0^{\\prime}$ as a function of $f$, while the bottom plot should show the electric field $E^{\\prime} = \\frac{1}{4 \\pi \\epsilon_0^{\\prime}} \\frac{q}{{r^{\\prime}}^2}$ at $r^{\\prime} = 1 \\mu \\mathrm{m} = 10^{-6}$ m as a function of $f$. Put units on the axes where appropriate.</li>\n",
        "</ol>"
      ]
    },
    {
      "cell_type": "code",
      "execution_count": 41,
      "id": "7d5d29b0",
      "metadata": {
        "id": "7d5d29b0",
        "colab": {
          "base_uri": "https://localhost:8080/",
          "height": 564
        },
        "outputId": "a9be1ea0-6bb7-46e7-cff6-a2f99b4792c7"
      },
      "outputs": [
        {
          "output_type": "stream",
          "name": "stderr",
          "text": [
            "<ipython-input-41-ab5f87e3ce6b>:13: RuntimeWarning: divide by zero encountered in true_divide\n",
            "  E = (1/(4*math.pi*e0))*(q/r**2)\n",
            "<ipython-input-41-ab5f87e3ce6b>:15: RuntimeWarning: divide by zero encountered in true_divide\n",
            "  e0 = 1/(𝜇0*(c**2)*(f**2))\n"
          ]
        },
        {
          "output_type": "display_data",
          "data": {
            "text/plain": [
              "<Figure size 432x216 with 1 Axes>"
            ],
            "image/png": "[encoded data removed]"
          },
          "metadata": {
            "needs_background": "light"
          }
        },
        {
          "output_type": "display_data",
          "data": {
            "text/plain": [
              "<Figure size 432x216 with 1 Axes>"
            ],
            "image/png": "[encoded data removed]"
          },
          "metadata": {
            "needs_background": "light"
          }
        }
      ],
      "source": [
        "f = np.arange(0,1,0.01)\n",
        "\n",
        "𝜖0 = 8.85 * 10**(-12) # F/m (Farads per meter)\n",
        "\n",
        "𝜇0 = 1.26 * 10**(-6) # N/A^2\n",
        "\n",
        "q = 1\n",
        "\n",
        "r = np.arange(0,10,0.1)\n",
        "\n",
        "c = 1/math.sqrt(𝜖0*𝜇0)\n",
        "\n",
        "E = (1/(4*math.pi*e0))*(q/r**2)\n",
        "\n",
        "e0 = 1/(𝜇0*(c**2)*(f**2))\n",
        "\n",
        "fig, ax = plt.subplots(figsize=(6,3))\n",
        "\n",
        "ax.plot(e0)\n",
        "plt.title('epsilon')\n",
        "plt.xlabel('f')\n",
        "plt.ylabel('e0')\n",
        "plt.show()\n",
        "\n",
        "fig, ax = plt.subplots(figsize=(6,3))\n",
        "\n",
        "ax.plot(E)\n",
        "plt.title('Electric Field')\n",
        "plt.xlabel('f')\n",
        "plt.ylabel('E')\n",
        "plt.show()\n"
      ]
    },
    {
      "cell_type": "markdown",
      "id": "4fa9b9c7",
      "metadata": {
        "id": "4fa9b9c7"
      },
      "source": [
        "<ol start=4>\n",
        "    <li>Now assume $f = 0.5$. In the same plot window, plot $E^{\\prime}(r^{\\prime})$ given by Equation 2 (same curve as in Problem 1) <em>and</em> $E^{\\prime}(r^{\\prime})$ calculated as in Problem 3, where $\\epsilon_0^{\\prime}$ is a function of $f$. Do you notice a problem?</li>\n",
        "</ol>"
      ]
    },
    {
      "cell_type": "code",
      "execution_count": 42,
      "id": "52b03d58",
      "metadata": {
        "id": "52b03d58",
        "colab": {
          "base_uri": "https://localhost:8080/",
          "height": 564
        },
        "outputId": "4a560b2d-ff13-453c-9a72-c2403b764c2c"
      },
      "outputs": [
        {
          "output_type": "stream",
          "name": "stderr",
          "text": [
            "<ipython-input-42-44b78ae87c20>:15: RuntimeWarning: divide by zero encountered in true_divide\n",
            "  E1 = (1/(4*math.pi*𝜖0))*(q/r**2)\n",
            "<ipython-input-42-44b78ae87c20>:17: RuntimeWarning: divide by zero encountered in true_divide\n",
            "  E2 = (1/(4*math.pi*e0))*(q/r**2)\n"
          ]
        },
        {
          "output_type": "display_data",
          "data": {
            "text/plain": [
              "<Figure size 432x216 with 1 Axes>"
            ],
            "image/png": "[encoded data removed]"
          },
          "metadata": {
            "needs_background": "light"
          }
        },
        {
          "output_type": "display_data",
          "data": {
            "text/plain": [
              "<Figure size 432x216 with 1 Axes>"
            ],
            "image/png": "[encoded data removed]"
          },
          "metadata": {
            "needs_background": "light"
          }
        }
      ],
      "source": [
        "f = 0.5\n",
        "\n",
        "𝜖0 = 8.85 * 10**(-12) # F/m (Farads per meter)\n",
        "\n",
        "𝜇0 = 1.26 * 10**(-6) # N/A^2\n",
        "\n",
        "q = 1\n",
        "\n",
        "r = np.arange(0,10,0.1)\n",
        "\n",
        "c = 1/math.sqrt(𝜖0*𝜇0)\n",
        "\n",
        "e0 = 1/(𝜇0*(c**2)*(f**2))\n",
        "\n",
        "E1 = (1/(4*math.pi*𝜖0))*(q/r**2)\n",
        "\n",
        "E2 = (1/(4*math.pi*e0))*(q/r**2)\n",
        "\n",
        "\n",
        "fig, ax = plt.subplots(figsize=(6,3))\n",
        "\n",
        "ax.plot(E1)\n",
        "plt.title('Electric Field')\n",
        "plt.xlabel('f')\n",
        "plt.ylabel('E')\n",
        "plt.show()\n",
        "\n",
        "fig, ax = plt.subplots(figsize=(6,3))\n",
        "\n",
        "ax.plot(E2)\n",
        "plt.title('Electric Field prime')\n",
        "plt.xlabel('f')\n",
        "plt.ylabel('E')\n",
        "plt.show()\n",
        "\n",
        "#the constants between the two reference frames that are suppose\n",
        "# to stay the same are not anymore."
      ]
    },
    {
      "cell_type": "markdown",
      "id": "85f9a9a5",
      "metadata": {
        "id": "85f9a9a5"
      },
      "source": [
        "<ol start=5>\n",
        "    <li>To resolve the issues revealed by the plot from Problem 4, you may suggest setting $\\epsilon_0^{\\prime} = \\epsilon_0$ and allowing $\\mu_0^{\\prime}$ to vary with $f$. Let's explore that solution. To accompany the point charge in problems 1-4, add a current loop that's also at rest in frame $S^{\\prime}$. Recall that the magnitude of the magnetic field strength at the center of the loop in frame $S$ is $B = \\frac{\\mu_0 I}{2R}$, where $I$ is the current and $R$ is the radius of the loop. Suppose $I = 1$ A and $R = 1$ m. Assume $E^{\\prime} = E$, $B^{\\prime} = B$, and $c^{\\prime}$ depends on $f$ as in problem 2. Plot $\\mu_0$ as a function of $f$.</li>\n",
        "</ol>"
      ]
    },
    {
      "cell_type": "code",
      "execution_count": 53,
      "id": "1bdde1e1",
      "metadata": {
        "id": "1bdde1e1",
        "colab": {
          "base_uri": "https://localhost:8080/",
          "height": 291
        },
        "outputId": "058308ea-2f32-471d-8b69-bbbbbe48736f"
      },
      "outputs": [
        {
          "output_type": "stream",
          "name": "stderr",
          "text": [
            "<ipython-input-53-6711979d65f9>:11: RuntimeWarning: invalid value encountered in true_divide\n",
            "  B = f/(q*vq*np.sin(math.pi/2))\n"
          ]
        },
        {
          "output_type": "display_data",
          "data": {
            "text/plain": [
              "<Figure size 432x216 with 1 Axes>"
            ],
            "image/png": "[encoded data removed]"
          },
          "metadata": {
            "needs_background": "light"
          }
        }
      ],
      "source": [
        "fig, ax = plt.subplots(figsize=(6,3))\n",
        "\n",
        "c = 1/math.sqrt(𝜖0*𝜇0)\n",
        "\n",
        "f = np.arange(0,1,0.01)\n",
        "\n",
        "vq = f*c\n",
        "\n",
        "q = 1\n",
        "\n",
        "B = f/(q*vq*np.sin(math.pi/2))\n",
        "\n",
        "mu0 = B*(2*r)\n",
        "\n",
        "ax.plot(mu0)\n",
        "plt.title('mu0')\n",
        "plt.xlabel('f')\n",
        "plt.ylabel('mu0')\n",
        "plt.show()"
      ]
    },
    {
      "cell_type": "markdown",
      "id": "68b2feca",
      "metadata": {
        "id": "68b2feca"
      },
      "source": [
        "<ol start=6>\n",
        "<li>If we calculate $c^{\\prime}$ using the Galilean transformation in Equation 3, is there any value of $f$ for which $E^{\\prime} = E$ <strong>and</strong> $B^{\\prime} = B$? Make a graph to illustrate your answer.</li>\n",
        "</ol>"
      ]
    },
    {
      "cell_type": "code",
      "execution_count": 43,
      "id": "58c35f1b",
      "metadata": {
        "id": "58c35f1b",
        "colab": {
          "base_uri": "https://localhost:8080/",
          "height": 564
        },
        "outputId": "8d81c174-1d3a-4ffd-e677-cb905a76acd5"
      },
      "outputs": [
        {
          "output_type": "stream",
          "name": "stderr",
          "text": [
            "<ipython-input-43-12bc8bac047a>:15: RuntimeWarning: divide by zero encountered in true_divide\n",
            "  E1 = (1/(4*math.pi*𝜖0))*(q/r**2)\n",
            "<ipython-input-43-12bc8bac047a>:17: RuntimeWarning: divide by zero encountered in true_divide\n",
            "  E2 = (1/(4*math.pi*e0))*(q/r**2)\n"
          ]
        },
        {
          "output_type": "display_data",
          "data": {
            "text/plain": [
              "<Figure size 432x216 with 1 Axes>"
            ],
            "image/png": "[encoded data removed]"
          },
          "metadata": {
            "needs_background": "light"
          }
        },
        {
          "output_type": "display_data",
          "data": {
            "text/plain": [
              "<Figure size 432x216 with 1 Axes>"
            ],
            "image/png": "[encoded data removed]"
          },
          "metadata": {
            "needs_background": "light"
          }
        }
      ],
      "source": [
        "f = 1\n",
        "\n",
        "𝜖0 = 8.85 * 10**(-12) # F/m (Farads per meter)\n",
        "\n",
        "𝜇0 = 1.26 * 10**(-6) # N/A^2\n",
        "\n",
        "q = 1\n",
        "\n",
        "r = np.arange(0,10,0.1)\n",
        "\n",
        "c = 1/math.sqrt(𝜖0*𝜇0)\n",
        "\n",
        "e0 = 1/(𝜇0*(c**2)*(f**2))\n",
        "\n",
        "E1 = (1/(4*math.pi*𝜖0))*(q/r**2)\n",
        "\n",
        "E2 = (1/(4*math.pi*e0))*(q/r**2)\n",
        "\n",
        "\n",
        "fig, ax = plt.subplots(figsize=(6,3))\n",
        "\n",
        "ax.plot(E1)\n",
        "plt.title('Electric Field')\n",
        "plt.xlabel('f')\n",
        "plt.ylabel('E')\n",
        "plt.show()\n",
        "\n",
        "fig, ax = plt.subplots(figsize=(6,3))\n",
        "\n",
        "ax.plot(E2)\n",
        "plt.title('Electric Field prime')\n",
        "plt.xlabel('f')\n",
        "plt.ylabel('E')\n",
        "plt.show()\n",
        "\n",
        "# A value for f where E' = E and B' = B is 1."
      ]
    },
    {
      "cell_type": "markdown",
      "id": "6a8fb2ac",
      "metadata": {
        "id": "6a8fb2ac"
      },
      "source": [
        "Conceptual questions about the conflict between the Galilean velocity transformation and E&M are in the written homework assignment."
      ]
    },
    {
      "cell_type": "code",
      "execution_count": null,
      "id": "ec7fb90a",
      "metadata": {
        "id": "ec7fb90a"
      },
      "outputs": [],
      "source": [
        "#Note: i had a hard time reading the questions as the formating\n",
        "# didn't seem to work correctly for me. Mabye it was because of how I\n",
        "# downloaded it, but hopfully this problem with formating doesn't occur\n",
        "# again."
      ]
    }
  ],
  "metadata": {
    "kernelspec": {
      "display_name": "Python 3",
      "language": "python",
      "name": "python3"
    },
    "language_info": {
      "codemirror_mode": {
        "name": "ipython",
        "version": 3
      },
      "file_extension": ".py",
      "mimetype": "text/x-python",
      "name": "python",
      "nbconvert_exporter": "python",
      "pygments_lexer": "ipython3",
      "version": "3.8.8"
    },
    "colab": {
      "provenance": []
    }
  },
  "nbformat": 4,
  "nbformat_minor": 5
}